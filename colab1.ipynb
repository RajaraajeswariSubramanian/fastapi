{
  "nbformat": 4,
  "nbformat_minor": 0,
  "metadata": {
    "colab": {
      "provenance": [],
      "authorship_tag": "ABX9TyPzW8gjRlX9I+zZlz6djEu5",
      "include_colab_link": true
    },
    "kernelspec": {
      "name": "python3",
      "display_name": "Python 3"
    },
    "language_info": {
      "name": "python"
    },
    "accelerator": "GPU",
    "gpuClass": "standard"
  },
  "cells": [
    {
      "cell_type": "markdown",
      "metadata": {
        "id": "view-in-github",
        "colab_type": "text"
      },
      "source": [
        "<a href=\"https://colab.research.google.com/github/RajaraajeswariSubramanian/fastapi/blob/main/colab1.ipynb\" target=\"_parent\"><img src=\"https://colab.research.google.com/assets/colab-badge.svg\" alt=\"Open In Colab\"/></a>"
      ]
    },
    {
      "cell_type": "code",
      "source": [
        "import numpy as np\n",
        "import matplotlib.pyplot as plt\n",
        "import keras\n",
        "from keras.models import Sequential\n",
        "from keras.datasets import mnist\n",
        "from keras.layers import Dense\n",
        "from keras.optimizers import Adam\n",
        "import random"
      ],
      "metadata": {
        "id": "8uHfd1PtDSgs"
      },
      "execution_count": null,
      "outputs": []
    },
    {
      "cell_type": "code",
      "execution_count": null,
      "metadata": {
        "id": "8pgOW1G4GADG"
      },
      "outputs": [],
      "source": []
    },
    {
      "cell_type": "code",
      "execution_count": null,
      "metadata": {
        "id": "qxQ2F6rAbGui"
      },
      "outputs": [],
      "source": [
        "from sklearn import datasets\n",
        "import numpy as np\n",
        "\n",
        "X_data = np.array([[0.4,0.3],[0.6,0.8],[0.7,0.5],[0.9,0.2]])\n",
        "Y_data = np.array([[1],[1],[1],[0]])\n",
        "\n",
        "X = X_data.T\n",
        "Y = Y_data.T\n",
        "\n",
        "W = np.zeros((X.shape[0], 1))\n",
        "b = 0\n",
        "\n",
        "num_samples = float(X.shape[1])   \n",
        "for i in range(1000):\n",
        "    Z = np.dot(W.T,X) + b\n",
        "    pred_y = 1/(1 + np.exp(-Z))\n",
        "    if(i%100 == 0):\n",
        "      print(\"cost after %d epoch:\"%i)\n",
        "      print (-1/num_samples *np.sum(Y*np.log(pred_y) + (1-Y)*(np.log(1-pred_y))))\n",
        "    dW = (np.dot(X,(pred_y-Y).T))/num_samples\n",
        "    db = np.sum(pred_y-Y)/num_samples\n",
        "    W = W - (0.1 * dW)\n",
        "    b = b - (0.1 * db)\n",
        "\n",
        "print (W)\n",
        "print(b)\n"
      ]
    },
    {
      "cell_type": "code",
      "source": [
        "np.dot(W.T,X)+b"
      ],
      "metadata": {
        "colab": {
          "base_uri": "https://localhost:8080/"
        },
        "id": "btEffcY2gmkx",
        "outputId": "027ca8c4-0af9-4aa6-96ff-ae24cd809ca7"
      },
      "execution_count": null,
      "outputs": [
        {
          "output_type": "execute_result",
          "data": {
            "text/plain": [
              "array([[1.65774033, 1.65774033, 1.65774033, 1.65774033]])"
            ]
          },
          "metadata": {},
          "execution_count": 36
        }
      ]
    },
    {
      "cell_type": "code",
      "source": [
        "Y_data.reshape(1,4)"
      ],
      "metadata": {
        "colab": {
          "base_uri": "https://localhost:8080/"
        },
        "id": "g0H5jJetOFkS",
        "outputId": "c4921b8f-8255-4166-a550-680f295112ed"
      },
      "execution_count": null,
      "outputs": [
        {
          "output_type": "execute_result",
          "data": {
            "text/plain": [
              "array([[1, 1, 1, 0]])"
            ]
          },
          "metadata": {},
          "execution_count": 12
        }
      ]
    },
    {
      "cell_type": "code",
      "source": [
        "float(X.shape[1])"
      ],
      "metadata": {
        "colab": {
          "base_uri": "https://localhost:8080/"
        },
        "id": "ZU-eL3aGcfT_",
        "outputId": "2caa490f-fe93-435d-924a-bd958868e481"
      },
      "execution_count": null,
      "outputs": [
        {
          "output_type": "execute_result",
          "data": {
            "text/plain": [
              "4.0"
            ]
          },
          "metadata": {},
          "execution_count": 28
        }
      ]
    },
    {
      "cell_type": "code",
      "source": [
        "Z"
      ],
      "metadata": {
        "colab": {
          "base_uri": "https://localhost:8080/"
        },
        "id": "A0yODZhKe-Cn",
        "outputId": "25c388e6-77fe-438c-9405-6e1d8773d077"
      },
      "execution_count": null,
      "outputs": [
        {
          "output_type": "execute_result",
          "data": {
            "text/plain": [
              "array([[ 1.60195392,  3.11416439,  1.45080768, -0.55619923]])"
            ]
          },
          "metadata": {},
          "execution_count": 29
        }
      ]
    },
    {
      "cell_type": "code",
      "source": [
        "W = np.zeros((X.shape[0], 1))\n",
        "W"
      ],
      "metadata": {
        "colab": {
          "base_uri": "https://localhost:8080/"
        },
        "id": "-kndztKrfWcI",
        "outputId": "6929e299-3326-4fae-96f9-3ebbeebbcf78"
      },
      "execution_count": null,
      "outputs": [
        {
          "output_type": "execute_result",
          "data": {
            "text/plain": [
              "array([[0.],\n",
              "       [0.]])"
            ]
          },
          "metadata": {},
          "execution_count": 32
        }
      ]
    },
    {
      "cell_type": "code",
      "source": [
        "import tensorflow as tf\n",
        "\n",
        "X_data = tf.constant([[0.4,0.3],[0.6,0.8],[0.7,0.5],[0.9,0.2]],name=\"input_value\")\n",
        "Y_data = tf.constant([[1.0],[1.0],[1.0],[0.0]],name=\"output_value\")\n",
        "\n",
        "X = tf.transpose(X_data)\n",
        "Y = tf.transpose(Y_data)\n",
        "\n",
        "W = tf.Variable(initial_value=tf.zeros([1,X.shape[0]], dtype=tf.float32),name=\"weight\")\n",
        "b = tf.Variable(initial_value=tf.zeros([1,1], dtype=tf.float32)) \n",
        "\n",
        "Z = tf.matmul(W,X) + b \n",
        "cost = tf.reduce_mean(tf.nn.sigmoid_cross_entropy_with_logits(logits=Z,labels=Y))\n",
        "#def __init__(learning_rate, use_locking=False, name='GradientDescent'):\n",
        "GD = tf.compat.v1.train.GradientDescentOptimizer(0.1).minimize(cost)\n",
        "   #return GD\n",
        "\n",
        "with tf.compat.v1.Session() as sess:\n",
        "    sess.run(tf.compat.v1.global_variables_initializer())\n",
        "    for i in range(1000):\n",
        "        c = sess.run([GD, cost])[1]\n",
        "        if i % 100 == 0:\n",
        "            print (\"cost after %d epoch:\"%i)\n",
        "            print(c)\n",
        "    print (sess.run(W),sess.run(b))\n",
        "\n",
        "\n",
        "\n"
      ],
      "metadata": {
        "id": "HGdpL0ierIOY",
        "colab": {
          "base_uri": "https://localhost:8080/"
        },
        "outputId": "4249cb47-7b2a-465f-bb6f-324c84a0cd8b"
      },
      "execution_count": null,
      "outputs": [
        {
          "output_type": "stream",
          "name": "stdout",
          "text": [
            "cost after 0 epoch:\n",
            "0.6931472\n",
            "cost after 100 epoch:\n",
            "0.5020586\n",
            "cost after 200 epoch:\n",
            "0.44484392\n",
            "cost after 300 epoch:\n",
            "0.39791155\n",
            "cost after 400 epoch:\n",
            "0.35904568\n",
            "cost after 500 epoch:\n",
            "0.32654804\n",
            "cost after 600 epoch:\n",
            "0.29909468\n",
            "cost after 700 epoch:\n",
            "0.27566692\n",
            "cost after 800 epoch:\n",
            "0.2554823\n",
            "cost after 900 epoch:\n",
            "0.23793726\n",
            "[[-3.439066  4.401683]] [[1.6577408]]\n"
          ]
        }
      ]
    },
    {
      "cell_type": "code",
      "source": [
        "import tensorflow as tf\n",
        "X_data = tf.constant([[0.4,0.3],[0.6,0.8],[0.7,0.5],[0.9,0.2]],name=\"input_value\")\n",
        "Y_data = tf.constant([[1.0],[1.0],[1.0],[0.0]],name=\"output_value\")\n"
      ],
      "metadata": {
        "id": "KaRcN6sviNvB"
      },
      "execution_count": null,
      "outputs": []
    },
    {
      "cell_type": "code",
      "source": [
        "import tensorflow as tf\n",
        "#tf.Session  is not supporting\n",
        "a = tf.constant(\"hello world!\")\n",
        "print(a)\n",
        "s = tf.compat.v1.Session()\n",
        "#s=tf.compat.v1.Session()\n",
        "print (s.run(a))\n",
        "s.close()\n",
        "\n",
        "\n"
      ],
      "metadata": {
        "id": "mty1Z9Zw9Z3L",
        "colab": {
          "base_uri": "https://localhost:8080/"
        },
        "outputId": "38d0a003-65ab-4999-8aa7-75d346d356a3"
      },
      "execution_count": null,
      "outputs": [
        {
          "output_type": "stream",
          "name": "stdout",
          "text": [
            "Tensor(\"Const_2:0\", shape=(), dtype=string)\n",
            "b'hello world!'\n"
          ]
        }
      ]
    },
    {
      "cell_type": "code",
      "source": [
        "\n",
        "with tf.compat.v1.Session() as s:\n",
        "  print(s.run(a)) "
      ],
      "metadata": {
        "colab": {
          "base_uri": "https://localhost:8080/"
        },
        "id": "d7sbseTdm8sT",
        "outputId": "804acf64-a8bc-424d-8905-f8209a19d0a8"
      },
      "execution_count": null,
      "outputs": [
        {
          "output_type": "stream",
          "name": "stdout",
          "text": [
            "b'hello world!'\n"
          ]
        }
      ]
    },
    {
      "cell_type": "code",
      "source": [
        "import tensorflow as tf\n",
        "print(\"TensorFlow version:\", tf.__version__)\n"
      ],
      "metadata": {
        "id": "9JRqSajJBesZ"
      },
      "execution_count": null,
      "outputs": []
    },
    {
      "cell_type": "code",
      "source": [
        "mnist = tf.keras.datasets.mnist\n",
        "\n",
        "(x_train, y_train), (x_test, y_test) = mnist.load_data()\n",
        "x_train, x_test = x_train / 255.0, x_test / 255.0"
      ],
      "metadata": {
        "id": "TZYTbuemBw-J"
      },
      "execution_count": null,
      "outputs": []
    },
    {
      "cell_type": "code",
      "source": [
        "model = tf.keras.models.Sequential([\n",
        "  tf.keras.layers.Flatten(input_shape=(28, 28)),\n",
        "  tf.keras.layers.Dense(128, activation='relu'),\n",
        "  tf.keras.layers.Dropout(0.2),\n",
        "  tf.keras.layers.Dense(10)\n",
        "])"
      ],
      "metadata": {
        "id": "bm7oe-mBB7HZ"
      },
      "execution_count": null,
      "outputs": []
    },
    {
      "cell_type": "code",
      "source": [
        "predictions = model(x_train[:1]).numpy()\n",
        "predictions"
      ],
      "metadata": {
        "id": "HBLqMNyDCAdx"
      },
      "execution_count": null,
      "outputs": []
    },
    {
      "cell_type": "markdown",
      "source": [
        "### constants\n"
      ],
      "metadata": {
        "id": "uI0fBkmAwpuL"
      }
    },
    {
      "cell_type": "code",
      "source": [
        "# constants\n",
        "import tensorflow as tf\n",
        "\n",
        "print (tf.constant(\"hello world!\"))\n",
        "print (tf.constant(1))\n",
        "print (tf.constant(1, tf.int16))\n",
        "print (tf.constant(1.25))\n",
        "print (tf.constant([1,2,3]))\t\n",
        "print (tf.constant([[1,2,3],[4,5,6]]))\t\n",
        "print (tf.constant([[[1,2,3],[4,5,6]],\n",
        "                    [[7,8,9],[10,11,12]],\n",
        "                    [[13,14,15],[16,17,18]]]))\t\n",
        "print (tf.constant([True, True, False]))\n",
        "print (tf.zeros(10))\t\n",
        "print (tf.ones([10, 10]))\n"
      ],
      "metadata": {
        "id": "V3053we8EZ_i"
      },
      "execution_count": null,
      "outputs": []
    },
    {
      "cell_type": "code",
      "source": [
        "#import tensorflow as tf\n",
        "print (tf.zeros(10))\n"
      ],
      "metadata": {
        "id": "4aD_IKxQgi-S"
      },
      "execution_count": null,
      "outputs": []
    },
    {
      "cell_type": "code",
      "source": [
        "print (tf.ones([10, 10]))"
      ],
      "metadata": {
        "id": "7NHE-up_hLc8"
      },
      "execution_count": null,
      "outputs": []
    },
    {
      "cell_type": "markdown",
      "source": [
        "### name, shapes, dtype"
      ],
      "metadata": {
        "id": "ExAeyCmZwemj"
      }
    },
    {
      "cell_type": "code",
      "source": [
        "# properties\n",
        "import tensorflow as tf\n",
        "\n",
        "a = tf.constant(1) \n",
        "b = tf.constant(2)\n",
        "c = tf.constant(1, name = \"value\") \n",
        "print(a.name)\n",
        "print (b.name)\n",
        "print (c.name)\n",
        "\n",
        "d = tf.constant([[1,2],[3,4],[5,6]]) \n",
        "e = tf.ones(d.shape[0])\n",
        "print(a.get_shape())\n",
        "print (d.get_shape())\n",
        "print (e.get_shape())\t\n",
        "#print (tf.ones(a.shape[0]))\t\n",
        "\n",
        "c = tf.constant(1.25)\n",
        "print (c.dtype)\n",
        "print (tf.cast(c, dtype=tf.int32).dtype)"
      ],
      "metadata": {
        "id": "7UTgpNgkh5rR"
      },
      "execution_count": null,
      "outputs": []
    },
    {
      "cell_type": "code",
      "source": [
        "import tensorflow as tf\n",
        "a = tf.constant(1) \n",
        "print(a.name)\n",
        "s = tf.compat.v1.Session()\n",
        "print (s.run(a))\n",
        "s.close()\n",
        "with tf.compat.v1.Session() as s: \n",
        "   print (s.run(a))"
      ],
      "metadata": {
        "id": "rGMy3ibzjyG6"
      },
      "execution_count": null,
      "outputs": []
    },
    {
      "cell_type": "markdown",
      "source": [
        "convert tensorflow 1. to 2."
      ],
      "metadata": {
        "id": "2wR6-H0YwS4r"
      }
    },
    {
      "cell_type": "code",
      "source": [
        "import tensorflow.compat.v1 as tf\n",
        "tf.disable_v2_behavior()"
      ],
      "metadata": {
        "id": "QRI_uCBMuMGL"
      },
      "execution_count": null,
      "outputs": []
    },
    {
      "cell_type": "code",
      "source": [
        "import tensorflow as tf\n",
        "x=tf.constant(3.0)\n",
        "with tf.GradientTape() as t:\n",
        "    print(t.watch(x))\n",
        "    y = (x - 10) ** 2\n",
        "    print(y)\n",
        "grads = t.gradient(y, [x])\n",
        "print (grads)"
      ],
      "metadata": {
        "id": "z2vtx507kbD6"
      },
      "execution_count": null,
      "outputs": []
    },
    {
      "cell_type": "code",
      "source": [
        "x = tf.constant(3.0, name=\"rr\")\n",
        "\n",
        "@property\n",
        "def name(self):\n",
        "     print(x.name)"
      ],
      "metadata": {
        "id": "ydqkCa5fmBqL"
      },
      "execution_count": null,
      "outputs": []
    },
    {
      "cell_type": "code",
      "source": [
        "print(tf.constant(1, name =\"ra\"))"
      ],
      "metadata": {
        "id": "jNK5u2urpCQT"
      },
      "execution_count": null,
      "outputs": []
    },
    {
      "cell_type": "code",
      "source": [],
      "metadata": {
        "id": "O6zLFE42qZzL"
      },
      "execution_count": null,
      "outputs": []
    },
    {
      "cell_type": "code",
      "source": [
        "a = tf.constant(1) \n",
        "print(a.get_shape())"
      ],
      "metadata": {
        "id": "FkaJICgdqgWa"
      },
      "execution_count": null,
      "outputs": []
    },
    {
      "cell_type": "markdown",
      "source": [
        "## Operators"
      ],
      "metadata": {
        "id": "-NlKm_vRv8QE"
      }
    },
    {
      "cell_type": "code",
      "source": [
        "#operators\n",
        "import tensorflow as tf\n",
        "\n",
        "a = tf.constant(121.5)\n",
        "b = tf.constant([[1,2],[3,4],[5,6]]) \n",
        "c = tf.constant([[7,8],[9,10],[11,12]]) \n",
        "\n",
        "r1 = tf.sqrt(a)\n",
        "r2 = tf.add(b,c)\n",
        "r3 = tf.multiply(b,c)\n",
        "\n",
        "with tf.compat.v1.Session() as s:  \n",
        "    print (s.run(r1))\t\n",
        "    print (s.run(r2)) \n",
        "    print (s.run(r3)) \n"
      ],
      "metadata": {
        "id": "LDdg7H3os987"
      },
      "execution_count": null,
      "outputs": []
    },
    {
      "cell_type": "markdown",
      "source": [
        "#Variables"
      ],
      "metadata": {
        "id": "ln0e5o9XvzNL"
      }
    },
    {
      "cell_type": "code",
      "source": [
        "#Variables\n",
        "import tensorflow as tf\n",
        "\n",
        "a = tf.compat.v1.get_variable(\"qq\", [3,3])\n",
        "b = tf.compat.v1.get_variable(\"qq1\", initializer=tf.constant([[3, 3],[4, 4]]))\n",
        "\n",
        "x = tf.Variable(1)\n",
        "y = tf.constant(2)\n",
        "r = tf.compat.v1.assign(x,tf.compat.v1.multiply(x,y))\n",
        "\n",
        "with tf.compat.v1.Session() as s:    \n",
        "    #print(s.run(a))    \n",
        "    s.run(tf.compat.v1.global_variables_initializer())\n",
        "    print(s.run(a))\n",
        "    print(s.run(b))\n",
        "    for i in range(10):\n",
        "        print (s.run(r))"
      ],
      "metadata": {
        "id": "a37rSGRZvt-D"
      },
      "execution_count": null,
      "outputs": []
    },
    {
      "cell_type": "code",
      "source": [
        "import tensorflow as tf\n",
        "a = tf.compat.v1.get_variable(\"v1\", [3,3])\n",
        "\n",
        "\n"
      ],
      "metadata": {
        "id": "i6BP35YYxJn6"
      },
      "execution_count": null,
      "outputs": []
    },
    {
      "cell_type": "code",
      "source": [
        "with tf.compat.v1.Session() as s:    \n",
        "    #print(s.run(a))    \n",
        "    s.run(tf.compat.v1.global_variables_initializer())\n",
        "    print(s.run(a))"
      ],
      "metadata": {
        "id": "wMd_-gmj27nr"
      },
      "execution_count": null,
      "outputs": []
    },
    {
      "cell_type": "markdown",
      "source": [
        "# Placeholder"
      ],
      "metadata": {
        "id": "pUuhVeBwCvd1"
      }
    },
    {
      "cell_type": "code",
      "source": [
        "import tensorflow as tf\n",
        "import numpy as np\n",
        "\n",
        "x = tf.compat.v1.placeholder(tf.compat.v1.float32,name=\"x\")\n",
        "y = tf.compat.v1.placeholder(tf.compat.v1.float32,[1],name=\"y\")\n",
        "z = tf.constant(2.0)\n",
        "y = x * z\n",
        "    \n",
        "print (x)\n",
        "with tf.compat.v1.Session() as s:\n",
        "    print (s.run(y,feed_dict={x:[100]}))\n",
        "    print (s.run(y,{x:[200]}))\n",
        "    print (s.run(y,{x: np.random.rand(1, 10)}))\n",
        "    print (s.run(tf.pow(x, 2),{x:[300]}))"
      ],
      "metadata": {
        "id": "LHNs6_voCuCj"
      },
      "execution_count": null,
      "outputs": []
    },
    {
      "cell_type": "code",
      "source": [
        "import tensorflow as tf\n",
        "\n",
        "x1 = tf.compat.v1.get_variable(\"aaa1\", dtype=tf.int32,  initializer=tf.compat.v1.constant([5]))\n",
        "y1 = tf.compat.v1.get_variable(\"bbb1\", dtype=tf.int32,  initializer=tf.compat.v1.constant([6]))\n",
        "c = tf.compat.v1.constant([5], name =\"c\")\n",
        "f = tf.compat.v1.multiply(x1, y1) + tf.pow(x1, 2) + y1 + c\t\n",
        "\n",
        "with tf.compat.v1.Session() as s:  \n",
        "    summary_writer = tf.compat.v1.summary.FileWriter('tensorboard_example',s.graph)\n",
        "    s.run(tf.compat.v1.global_variables_initializer())\n",
        "    print (s.run(f))\n"
      ],
      "metadata": {
        "colab": {
          "base_uri": "https://localhost:8080/"
        },
        "id": "Tij35CtTG3GF",
        "outputId": "204eed74-9c44-43bf-9d83-2e6372664003"
      },
      "execution_count": null,
      "outputs": [
        {
          "output_type": "stream",
          "name": "stdout",
          "text": [
            "[66]\n"
          ]
        }
      ]
    },
    {
      "cell_type": "code",
      "source": [
        "import tensorflow as tf\n",
        "\n",
        "X = tf.compat.v1.constant(0.5)\n",
        "Y = tf.compat.v1.constant(0.0)\n",
        "W = tf.compat.v1.Variable(1.0)\n",
        "\n",
        "predict_Y = tf.compat.v1.multiply(X,W)\n",
        "\n",
        "cost = tf.pow(Y - predict_Y,2)\n",
        "min_cost = tf.compat.v1.train.GradientDescentOptimizer(0.025).minimize(cost)\n",
        "\n",
        "for i in [X,W,Y,predict_Y,cost]:\n",
        "    tf.compat.v1.summary.scalar(i.op.name,i)\n",
        "    \n",
        "summaries = tf.compat.v1.summary.merge_all()\n",
        "\n",
        "with tf.compat.v1.Session() as s:\n",
        "    summary_writer = tf.compat.v1.summary.FileWriter('single_input_neuron',s.graph)\n",
        "    s.run(tf.compat.v1.global_variables_initializer())\n",
        "    for i in range(100):\n",
        "        summary_writer.add_summary(s.run(summaries),i)\n",
        "        s.run(min_cost)"
      ],
      "metadata": {
        "id": "7-CShIN9NGAM"
      },
      "execution_count": null,
      "outputs": []
    },
    {
      "cell_type": "markdown",
      "source": [
        "## **Simple NN**"
      ],
      "metadata": {
        "id": "_KX7VpDuPyNt"
      }
    },
    {
      "cell_type": "code",
      "source": [
        "from sklearn import datasets\n",
        "import numpy as np\n",
        "from sklearn.datasets import load_breast_cancer\n",
        "from sklearn.model_selection import train_test_split \n",
        "\n",
        "def normalize(data):\n",
        "  col_max = np.max(data, axis = 0)\n",
        "  col_min = np.min(data, axis = 0)\n",
        "  return np.divide(data - col_min, col_max - col_min)  \n",
        "\n",
        "def model(X,Y):\n",
        "  num_samples = float(X.shape[1])\n",
        "  W = np.zeros((X.shape[0], 1))\n",
        "  b = 0\n",
        "  for i in range(4000):\n",
        "    Z = np.dot(W.T,X) + b\n",
        "    A = 1/(1 + np.exp(-Z))\n",
        "    if(i%100 == 0):\n",
        "      print(\"cost after %d epoch:\"%i)\n",
        "      print (-1/num_samples *np.sum(Y*np.log(A) + (1-Y)*(np.log(1-A))))\n",
        "    dW = (np.dot(X,(A-Y).T))/num_samples\n",
        "    db = np.sum(A-Y)/num_samples\n",
        "    W = W - (0.75 * dW)\n",
        "    b = b - (0.75 * db)\n",
        "  return W, b\n",
        "\n",
        "def predict(X,W,b):\n",
        "    Z = np.dot(W.T,X) + b\n",
        "    i = []\n",
        "    for y in 1/(1 + np.exp(-Z[0])):\n",
        "        if y > 0.5 :\n",
        "            i.append(1)\n",
        "        else:\n",
        "            i.append(0)  \n",
        "    return (np.array(i).reshape(1,len(Z[0])))\n",
        "\n",
        "(X_cancer, y_cancer) = load_breast_cancer(return_X_y = True)\n",
        "X_train, X_test, y_train, y_test = train_test_split(X_cancer, y_cancer, random_state = 25)\n",
        "\n",
        "X_train = normalize(X_train).T\n",
        "y_train = y_train.T\n",
        "\n",
        "X_test = normalize(X_test).T\n",
        "y_test = y_test.T\n",
        "\n",
        "Weights, bias = model(X_train, y_train)\n",
        "\n",
        "y_predictions = predict(X_train,Weights,bias)\n",
        "accuracy = 100 - np.mean(np.abs(y_predictions - y_train)) * 100\n",
        "print (\"Accuracy for training data: {} %\".format(accuracy))\n",
        "      \n",
        "y_predictions = predict(X_test,Weights,bias)\n",
        "accuracy = 100 - np.mean(np.abs(y_predictions - y_test)) * 100\n",
        "print (\"Accuracy for test data: {} %\".format(accuracy))\n"
      ],
      "metadata": {
        "id": "ozWQhx0_PwAT"
      },
      "execution_count": null,
      "outputs": []
    },
    {
      "cell_type": "markdown",
      "source": [
        "## **simple NN**"
      ],
      "metadata": {
        "id": "cTJKWx7E5dOM"
      }
    },
    {
      "cell_type": "code",
      "source": [
        "from sklearn import datasets\n",
        "import numpy as np\n",
        "from sklearn.datasets import load_breast_cancer\n",
        "from sklearn.model_selection import train_test_split \n",
        "\n",
        "def normalize(data):\n",
        "  col_max = np.max(data, axis = 0)\n",
        "  col_min = np.min(data, axis = 0)\n",
        "  return np.divide(data - col_min, col_max - col_min)  \n",
        "\n",
        "def model(X,Y):\n",
        "  num_samples = float(X.shape[1])\n",
        "  W = np.zeros((X.shape[0], 1))\n",
        "  b = 0\n",
        "  for i in range(4000):\n",
        "    Z = np.dot(W.T,X) + b\n",
        "    A = 1/(1 + np.exp(-Z))\n",
        "    if(i%100 == 0):\n",
        "      print(\"cost after %d epoch:\"%i)\n",
        "      print (-1/num_samples *np.sum(Y*np.log(A) + (1-Y)*(np.log(1-A))))\n",
        "    dW = (np.dot(X,(A-Y).T))/num_samples\n",
        "    db = np.sum(A-Y)/num_samples\n",
        "    W = W - (0.75 * dW)\n",
        "    b = b - (0.75 * db)\n",
        "  return W, b\n",
        "\n",
        "def predict(X,W,b):\n",
        "    Z = np.dot(W.T,X) + b\n",
        "    i = []\n",
        "    for y in 1/(1 + np.exp(-Z[0])):\n",
        "        if y > 0.5 :\n",
        "            i.append(1)\n",
        "        else:\n",
        "            i.append(0)  \n",
        "    return (np.array(i).reshape(1,len(Z[0])))\n",
        "\n",
        "(X_cancer, y_cancer) = load_breast_cancer(return_X_y = True)\n",
        "X_train, X_test, y_train, y_test = train_test_split(X_cancer, y_cancer, random_state = 25)\n",
        "\n",
        "X_train = normalize(X_train).T\n",
        "y_train = y_train.T\n",
        "\n",
        "X_test = normalize(X_test).T\n",
        "y_test = y_test.T\n",
        "\n",
        "Weights, bias = model(X_train, y_train)\n",
        "\n",
        "y_predictions = predict(X_train,Weights,bias)\n",
        "accuracy = 100 - np.mean(np.abs(y_predictions - y_train)) * 100\n",
        "print (\"Accuracy for training data: {} %\".format(accuracy))\n",
        "      \n",
        "y_predictions = predict(X_test,Weights,bias)\n",
        "accuracy = 100 - np.mean(np.abs(y_predictions - y_test)) * 100\n",
        "print (\"Accuracy for test data: {} %\".format(accuracy))"
      ],
      "metadata": {
        "id": "-CnIwzN35aZr"
      },
      "execution_count": null,
      "outputs": []
    },
    {
      "cell_type": "markdown",
      "source": [
        "### **Shallow NN**"
      ],
      "metadata": {
        "id": "Ud1UHWXt5vgd"
      }
    },
    {
      "cell_type": "code",
      "source": [
        "from sklearn.model_selection import train_test_split \n",
        "from sklearn.datasets import load_breast_cancer\n",
        "import tensorflow as tf\n",
        "import numpy as np\n",
        "import matplotlib\n",
        "import matplotlib.pyplot as plt\n",
        "from matplotlib.colors import ListedColormap\n",
        "\n",
        "\n",
        "def normalize(data):\n",
        "  col_max = np.max(data, axis = 0)\n",
        "  col_min = np.min(data, axis = 0)\n",
        "  return np.divide(data - col_min, col_max - col_min)  \n",
        "    \n",
        "(X_cancer, y_cancer) = load_breast_cancer(return_X_y = True)\n",
        "\n",
        "cmap = matplotlib.colors.ListedColormap(['black','yellow'])\n",
        "plt.figure()\n",
        "plt.title('Non-linearly separable classes')\n",
        "plt.scatter(X_cancer[:,0], X_cancer[:,1], c=y_cancer, marker= 'o', s=50, cmap=cmap, alpha = 0.5 )\n",
        "plt.show()\n",
        "plt.savefig('fig1.png', bbox_inches='tight')\n",
        "\n",
        "X_train, X_test, Y_train, Y_test = train_test_split(X_cancer, y_cancer, random_state = 25)\n",
        "\n",
        "X_train = normalize(X_train).T\n",
        "Y_train = Y_train.reshape(1, len(Y_train))\n",
        "\n",
        "X_test = normalize(X_test).T\n",
        "Y_test = Y_test.reshape(1, len(Y_test))\n",
        "\n",
        "X = tf.compat.v1.placeholder(dtype = tf.float64, shape = ([X_train.shape[0],None]))\n",
        "Y = tf.compat.v1.placeholder(dtype = tf.float64, shape = ([1,None]))\n",
        "  \n",
        "W1 = tf.compat.v1.Variable(initial_value=tf.compat.v1.random_normal([8,X_train.shape[0]], dtype = tf.float64) * 0.01)\n",
        "b1 = tf.compat.v1.Variable(initial_value=tf.zeros([8,1], dtype=tf.float64))\n",
        "W2 = tf.compat.v1.Variable(initial_value=tf.compat.v1.random_normal([1,8], dtype=tf.float64) * 0.01)\n",
        "b2 = tf.compat.v1.Variable(initial_value=tf.zeros([1,1], dtype=tf.float64))  \n",
        "\n",
        "print (W1,b1,W2,b2)\n",
        "  \n",
        "Z1 = tf.matmul(W1,X) + b1\n",
        "A1 = tf.nn.relu(Z1)\n",
        "Z2 = tf.matmul(W2,A1) + b2\n",
        " \n",
        "cost = tf.reduce_mean(tf.nn.sigmoid_cross_entropy_with_logits(logits=Z2,labels=Y))\n",
        "\n",
        "GD = tf.compat.v1.train.GradientDescentOptimizer(0.2).minimize(cost)\n",
        "  \n",
        "with tf.compat.v1.Session() as sess:\n",
        "  sess.run(tf.compat.v1.global_variables_initializer())\n",
        "  for i in range(5000):\n",
        "    c = sess.run([GD, cost], feed_dict={X: X_train, Y: Y_train})[1]\n",
        "    if i % 1000 == 0:\n",
        "      print (\"cost after %d epoch:\"%i)\n",
        "      print(c)        \n",
        "  correct_prediction = tf.equal(tf.round(tf.sigmoid(Z2)), Y)\n",
        "  accuracy = tf.reduce_mean(tf.cast(correct_prediction, \"float\"))\n",
        "  print(\"Accuracy for training data:\", accuracy.eval({X: X_train, Y: Y_train}))\n",
        "  print(\"Accuracy for test data:\", accuracy.eval({X: X_test, Y: Y_test}))"
      ],
      "metadata": {
        "id": "FelB_lxb5m6v"
      },
      "execution_count": null,
      "outputs": []
    },
    {
      "cell_type": "markdown",
      "source": [
        "###**Softmax classifier**  "
      ],
      "metadata": {
        "id": "n7rXykpt9FQO"
      }
    },
    {
      "cell_type": "code",
      "source": [
        "import numpy as np\n",
        "import matplotlib.pyplot as plt\n",
        "import tensorflow as tf\n",
        "import tensorflow_datasets\n",
        "mnist = tensorflow_datasets.load('mnist')\n",
        "from random import randint\n",
        "#(x_train, y_train), (x_test, y_test) = mnist.load_data()\n",
        "\n",
        "X = tf.compat.v1.placeholder(dtype = tf.float32, shape = (None,784))\n",
        "Y = tf.compat.v1.placeholder(dtype = tf.float32, shape = ([None,10]))\n",
        "\n",
        "W = tf.compat.v1.Variable(initial_value=tf.zeros([784, 10]), dtype = tf.float32)\n",
        "b = tf.compat.v1.Variable(initial_value=tf.zeros([10], dtype=tf.float32))\n",
        "\n",
        "XX = tf.reshape(X, [-1, 784])\n",
        "Z = tf.nn.softmax(tf.matmul(XX, W) + b, name=\"output\")\n",
        "\n",
        "cost = -tf.compat.v1.reduce_mean(Y * tf.math.log(Z)) * 1000.0\n",
        "\n",
        "GD = tf.compat.v1.train.GradientDescentOptimizer(0.005).minimize(cost)\n",
        "correct_prediction = tf.equal(tf.argmax(Z, 1),tf.argmax(Y, 1))\n",
        "accuracy = tf.reduce_mean(tf.cast(correct_prediction,tf.float32))\n",
        "num_classes = 10\n",
        "with tf.compat.v1.Session() as sess:\n",
        "    sess.run(tf.compat.v1.global_variables_initializer())\n",
        "    writer = tf.compat.v1.summary.FileWriter('log_mnist_softmax',graph=tf.compat.v1.get_default_graph())\n",
        "    for epoch in range(10):\n",
        "       # batch_count = (X.shape/100)\n",
        "        for i in range(1000):\n",
        "           #batch_x, batch_y = mnist.(100)\n",
        "           c = sess.run([GD, cost], {X:[100],Y:[100]})\n",
        "        print (\"Epoch: \", epoch)\n",
        "    print (\"Accuracy: \", accuracy.eval(feed_dict={X:mnist.test.images,Y: mnist.test.labels}))\n",
        "    print (\"done\")\n",
        "    \n",
        "    num = randint(1, mnist.test.images.shape[1]) \n",
        "    img = mnist.test.images[num] \n",
        " \n",
        "    classification = sess.run(tf.argmax(Z, 1), feed_dict={X: [img]}) \n",
        "    print('Neural Network predicted', classification[0])\n",
        "    print('Real label is:', np.argmax(mnist.test.labels[num])) \n"
      ],
      "metadata": {
        "id": "EJrbbkH89BxO"
      },
      "execution_count": null,
      "outputs": []
    },
    {
      "cell_type": "code",
      "source": [],
      "metadata": {
        "id": "Sh5cawNf4Rfy"
      },
      "execution_count": null,
      "outputs": []
    },
    {
      "cell_type": "code",
      "source": [
        "mnist"
      ],
      "metadata": {
        "colab": {
          "base_uri": "https://localhost:8080/"
        },
        "id": "OOmbV-eNu97a",
        "outputId": "50702f39-1332-45fc-bb02-4bc686a851d7"
      },
      "execution_count": null,
      "outputs": [
        {
          "output_type": "execute_result",
          "data": {
            "text/plain": [
              "<function dict.fromkeys(iterable, value=None, /)>"
            ]
          },
          "metadata": {},
          "execution_count": 80
        }
      ]
    },
    {
      "cell_type": "code",
      "source": [
        "# example of loading the mnist dataset\n",
        "from tensorflow.keras.datasets import mnist\n",
        "from matplotlib import pyplot as plt\n",
        "# load dataset\n",
        "(trainX, trainy), (testX, testy) = mnist.load_data()\n",
        "# summarize loaded dataset\n",
        "print('Train: X=%s, y=%s' % (trainX.shape, trainy.shape))\n",
        "print('Test: X=%s, y=%s' % (testX.shape, testy.shape))\n",
        "# plot first few images\n",
        "for i in range(9):\n",
        "\t# define subplot\n",
        "\tplt.subplot(330 + 1 + i)\n",
        "\t# plot raw pixel data\n",
        "\tplt.imshow(trainX[i], cmap=plt.get_cmap('gray'))\n",
        "# show the figure\n",
        "plt.show()"
      ],
      "metadata": {
        "colab": {
          "base_uri": "https://localhost:8080/",
          "height": 303
        },
        "id": "loW384y9-ljy",
        "outputId": "8e9d0318-f533-4016-ef2f-4203fc6c6fb7"
      },
      "execution_count": null,
      "outputs": [
        {
          "output_type": "stream",
          "name": "stdout",
          "text": [
            "Train: X=(60000, 28, 28), y=(60000,)\n",
            "Test: X=(10000, 28, 28), y=(10000,)\n"
          ]
        },
        {
          "output_type": "display_data",
          "data": {
            "text/plain": [
              "<Figure size 432x288 with 9 Axes>"
            ],
            "image/png": "[encoded data removed]"
          },
          "metadata": {
            "needs_background": "light"
          }
        }
      ]
    },
    {
      "cell_type": "code",
      "source": [
        "import tensorflow.compat.v1 as tf\n",
        "from tensorflow.examples.tutorials.mnist import input_data \n",
        "mnist = input_data.read_data_sets(\"MNIST_data/\", one_hot=True)\n"
      ],
      "metadata": {
        "id": "8DJRoyP3hmKU"
      },
      "execution_count": null,
      "outputs": []
    },
    {
      "cell_type": "markdown",
      "source": [
        "### **compat code**"
      ],
      "metadata": {
        "id": "4iXnBbwLivQH"
      }
    },
    {
      "cell_type": "code",
      "source": [
        "import tensorflow.compat.v1 as tf\n",
        "tf.disable_v2_behavior()"
      ],
      "metadata": {
        "id": "OchJQ83Kit-k"
      },
      "execution_count": null,
      "outputs": []
    },
    {
      "cell_type": "markdown",
      "source": [
        "### **version**"
      ],
      "metadata": {
        "id": "NiMU6QCRlXK6"
      }
    },
    {
      "cell_type": "code",
      "source": [
        " import tensorflow as tf \n",
        " tf.__version__"
      ],
      "metadata": {
        "colab": {
          "base_uri": "https://localhost:8080/",
          "height": 35
        },
        "id": "atY9KidHlP3F",
        "outputId": "0559ebd4-5dbd-4938-8735-03dcc23f23c7"
      },
      "execution_count": null,
      "outputs": [
        {
          "output_type": "execute_result",
          "data": {
            "text/plain": [
              "'2.11.0'"
            ],
            "application/vnd.google.colaboratory.intrinsic+json": {
              "type": "string"
            }
          },
          "metadata": {},
          "execution_count": 54
        }
      ]
    },
    {
      "cell_type": "code",
      "source": [
        "import numpy as np\n",
        "import matplotlib.pyplot as plt\n",
        "import keras\n",
        "from keras.models import Sequential\n",
        "from keras.datasets import mnist\n",
        "from keras.layers import Dense\n",
        "from keras.optimizers import Adam\n",
        "import random"
      ],
      "metadata": {
        "id": "u1S1gR-EL5-t"
      },
      "execution_count": null,
      "outputs": []
    },
    {
      "cell_type": "code",
      "source": [
        "#import 60000 images from mnist data set\n",
        "(X_train, y_train), (X_test, y_test) = mnist.load_data()"
      ],
      "metadata": {
        "colab": {
          "base_uri": "https://localhost:8080/"
        },
        "id": "y4Zs2f8oM8A1",
        "outputId": "d5a21cb0-47b1-4622-b185-a6cdcef96e4b"
      },
      "execution_count": null,
      "outputs": [
        {
          "output_type": "stream",
          "name": "stdout",
          "text": [
            "Downloading data from https://storage.googleapis.com/tensorflow/tf-keras-datasets/mnist.npz\n",
            "11490434/11490434 [==============================] - 0s 0us/step\n"
          ]
        }
      ]
    },
    {
      "cell_type": "code",
      "source": [
        "print(X_train.tofile)"
      ],
      "metadata": {
        "colab": {
          "base_uri": "https://localhost:8080/"
        },
        "id": "Iq-wqyxtQghN",
        "outputId": "68b35853-58fb-44ff-c44c-129c40c73e83"
      },
      "execution_count": null,
      "outputs": [
        {
          "output_type": "stream",
          "name": "stdout",
          "text": [
            "<built-in method tofile of numpy.ndarray object at 0x7f195d59a1b0>\n"
          ]
        }
      ]
    },
    {
      "cell_type": "code",
      "source": [
        "print(X_train.shape[1])\n",
        "print(X_train.shape)\n",
        "print(X_test.shape)\n",
        "print(y_train.shape[0])\n",
        "print(y_test.shape[0])\n",
        "print(y_test.shape)\n"
      ],
      "metadata": {
        "colab": {
          "base_uri": "https://localhost:8080/"
        },
        "id": "f2rYgv_SOavM",
        "outputId": "8d160b75-b7e7-404f-e8e1-bf9174a2936d"
      },
      "execution_count": null,
      "outputs": [
        {
          "output_type": "stream",
          "name": "stdout",
          "text": [
            "28\n",
            "(60000, 28, 28)\n",
            "(10000, 28, 28)\n",
            "60000\n",
            "10000\n",
            "(10000,)\n"
          ]
        }
      ]
    },
    {
      "cell_type": "code",
      "source": [
        "assert(X_train.shape[0] == y_train.shape[0]), \"The number of images is not equal ..\"\n",
        "assert(X_test.shape[0] == y_test.shape[0]), \"The number of images is not equal ..\"\n",
        "assert(X_train.shape[1:] == (28, 28)), \"The dimension of the images are not 28x28\"\n",
        "assert(X_test.shape[1:] == (28, 28)), \"The dimension of the images are not 28x28\""
      ],
      "metadata": {
        "id": "2lhXnsPsPV8m"
      },
      "execution_count": null,
      "outputs": []
    },
    {
      "cell_type": "code",
      "source": [
        "num_of_samples = []\n",
        "\n",
        "cols =28 #We will select 5 random images\n",
        "num_of_classes = 10 #each digit total: 10\n",
        "\n",
        "fig, axs = plt.subplots(nrows=num_of_classes, ncols=cols,\n",
        "                       figsize=(5, 10))\n",
        "fig.tight_layout()\n",
        "for i in range(cols):\n",
        "  for j in range(num_of_classes):\n",
        "    x_selected = X_train[y_train == j]\n",
        "    axs[j][i].imshow(x_selected[random.randint(0, len(x_selected -1)),\n",
        "                                :, :],\n",
        "                    cmap=plt.get_cmap('gray')) \n",
        "    axs[j][i].axis(\"off\")\n",
        "    if i==2:\n",
        "      axs[j][i].set_title(str(j))\n",
        "      num_of_samples.append(len(x_selected))"
      ],
      "metadata": {
        "id": "emy6G4TTPM5e"
      },
      "execution_count": null,
      "outputs": []
    },
    {
      "cell_type": "code",
      "source": [
        "print(num_of_samples)\n",
        "plt.figure(figsize=(12, 4))\n",
        "plt.bar(range(0, num_of_classes), num_of_samples)\n",
        "plt.title(\"Distribution of the training dataset\")\n",
        "plt.xlabel(\"Class Number\")\n",
        "plt.ylabel(\"Number of images\")\n",
        "[5923, 6742, 5958, 6131, 5842, 5421, 5918, 6265, 5851, 5949]\n",
        "#Text(0, 0.5, 'Number of images')"
      ],
      "metadata": {
        "colab": {
          "base_uri": "https://localhost:8080/",
          "height": 331
        },
        "id": "VAMg9K8LUXKO",
        "outputId": "ba3fdac1-58c9-4bf3-d205-e319ab9215f6"
      },
      "execution_count": null,
      "outputs": [
        {
          "output_type": "stream",
          "name": "stdout",
          "text": [
            "[5923, 6742, 5958, 6131, 5842, 5421, 5918, 6265, 5851, 5949]\n"
          ]
        },
        {
          "output_type": "execute_result",
          "data": {
            "text/plain": [
              "[5923, 6742, 5958, 6131, 5842, 5421, 5918, 6265, 5851, 5949]"
            ]
          },
          "metadata": {},
          "execution_count": 125
        },
        {
          "output_type": "display_data",
          "data": {
            "text/plain": [
              "<Figure size 864x288 with 1 Axes>"
            ],
            "image/png": "[encoded data removed]"
          },
          "metadata": {
            "needs_background": "light"
          }
        }
      ]
    },
    {
      "cell_type": "code",
      "source": [
        "from keras.utils import to_categorical\n",
        "y_train = to_categorical(y_train, 10)\n",
        "y_test = to_categorical(y_test, 10)"
      ],
      "metadata": {
        "id": "t6PlKKChVdJX"
      },
      "execution_count": null,
      "outputs": []
    },
    {
      "cell_type": "code",
      "source": [
        "y_train.shape"
      ],
      "metadata": {
        "colab": {
          "base_uri": "https://localhost:8080/"
        },
        "id": "f4RcL7qhV8iV",
        "outputId": "35dabb6d-9922-44e2-c1d7-ad8806999c9c"
      },
      "execution_count": null,
      "outputs": [
        {
          "output_type": "execute_result",
          "data": {
            "text/plain": [
              "(60000, 10)"
            ]
          },
          "metadata": {},
          "execution_count": 129
        }
      ]
    },
    {
      "cell_type": "code",
      "source": [
        "y_test.shape"
      ],
      "metadata": {
        "colab": {
          "base_uri": "https://localhost:8080/"
        },
        "id": "B1DP_TA9WEMO",
        "outputId": "069582b0-4127-46fe-de10-c1d42aaf1e29"
      },
      "execution_count": null,
      "outputs": [
        {
          "output_type": "execute_result",
          "data": {
            "text/plain": [
              "(10000, 10)"
            ]
          },
          "metadata": {},
          "execution_count": 130
        }
      ]
    },
    {
      "cell_type": "code",
      "source": [],
      "metadata": {
        "id": "zFNzwT9GWLpi"
      },
      "execution_count": null,
      "outputs": []
    },
    {
      "cell_type": "code",
      "source": [
        "#Each image has Intensity from 0 to 255\n",
        "X_train = X_train/255 \n",
        "X_test = X_test/255\n",
        "X_test.shape\n",
        "X_train\n",
        "#we must change the shape of the images to 1d array(28*28)\n",
        "#for multipication 1*784\n",
        "num_pixels = 784\n",
        "X_train = X_train.reshape(X_train.shape[0],\n",
        "                         num_pixels)\n",
        "X_test = X_test.reshape(X_test.shape[0],\n",
        "                         num_pixels)\n",
        "print(X_train.shape)\n",
        "(60000, 784)"
      ],
      "metadata": {
        "colab": {
          "base_uri": "https://localhost:8080/"
        },
        "id": "zmVM7CZdWua2",
        "outputId": "1af34cac-2de0-44fe-9fc8-173255ee856e"
      },
      "execution_count": null,
      "outputs": [
        {
          "output_type": "stream",
          "name": "stdout",
          "text": [
            "(60000, 784)\n"
          ]
        },
        {
          "output_type": "execute_result",
          "data": {
            "text/plain": [
              "(60000, 784)"
            ]
          },
          "metadata": {},
          "execution_count": 135
        }
      ]
    },
    {
      "cell_type": "code",
      "source": [
        "X_test.shape"
      ],
      "metadata": {
        "colab": {
          "base_uri": "https://localhost:8080/"
        },
        "id": "-7C3AzPOWz-f",
        "outputId": "6dd1f253-9720-4d61-95b8-fa8c86d29461"
      },
      "execution_count": null,
      "outputs": [
        {
          "output_type": "execute_result",
          "data": {
            "text/plain": [
              "(10000, 784)"
            ]
          },
          "metadata": {},
          "execution_count": 134
        }
      ]
    },
    {
      "cell_type": "code",
      "source": [],
      "metadata": {
        "id": "lKsAbjbtW2_L"
      },
      "execution_count": null,
      "outputs": []
    },
    {
      "cell_type": "markdown",
      "source": [
        "## **example image processing**\n"
      ],
      "metadata": {
        "id": "KEyva0t0DBw6"
      }
    },
    {
      "cell_type": "markdown",
      "source": [],
      "metadata": {
        "id": "ySPdZqJWKny8"
      }
    },
    {
      "cell_type": "code",
      "source": [
        "\n"
      ],
      "metadata": {
        "id": "egSHYFA8DBhS"
      },
      "execution_count": null,
      "outputs": []
    },
    {
      "cell_type": "code",
      "source": [
        "import warnings\n",
        "warnings.filterwarnings('ignore')\n",
        "\n",
        "import numpy as np\n",
        "import matplotlib.pyplot as plt\n",
        "import keras\n",
        "from keras.datasets import mnist\n",
        "from keras.models import Sequential,model_from_json\n",
        "from keras.layers import Dense\n",
        "from keras.optimizers import RMSprop\n",
        "import pylab as plt\n",
        "     "
      ],
      "metadata": {
        "id": "eOK1qTG0Dix6"
      },
      "execution_count": null,
      "outputs": []
    },
    {
      "cell_type": "code",
      "source": [
        "batch_size = 128\n",
        "num_classes = 10\n",
        "epochs = 2\n",
        "\n",
        "# the data, split between train and test sets\n",
        "(x_train, y_train), (x_test, y_test) = mnist.load_data()\n",
        "\n",
        "x_train = x_train.reshape(60000, 784)\n",
        "x_test = x_test.reshape(10000, 784)\n",
        "x_train = x_train.astype('float32')\n",
        "x_test = x_test.astype('float32')\n",
        "\n",
        "# Normalize to 0 to 1 range\n",
        "x_train /= 255\n",
        "x_test /= 255\n",
        "\n",
        "print(x_train.shape[0], 'train samples')\n",
        "print(x_test.shape[0], 'test samples')\n",
        "# convert class vectors to binary class matrices\n",
        "y_train = keras.utils.to_categorical(y_train, num_classes)\n",
        "y_test = keras.utils.to_categorical(y_test, num_classes)"
      ],
      "metadata": {
        "colab": {
          "base_uri": "https://localhost:8080/"
        },
        "id": "vPWtpayPERzb",
        "outputId": "58602ee6-8389-4a69-f62b-c5c1efbfa87f"
      },
      "execution_count": null,
      "outputs": [
        {
          "output_type": "stream",
          "name": "stdout",
          "text": [
            "Downloading data from https://storage.googleapis.com/tensorflow/tf-keras-datasets/mnist.npz\n",
            "11490434/11490434 [==============================] - 2s 0us/step\n",
            "60000 train samples\n",
            "10000 test samples\n"
          ]
        }
      ]
    },
    {
      "cell_type": "code",
      "source": [
        "\n",
        "print(\"Label:\",y_test[250:251]) \n",
        "plt.imshow(x_test[250:251].reshape(28,28), cmap='gray')\n",
        "plt.show()"
      ],
      "metadata": {
        "id": "agEIPdWKExrK"
      },
      "execution_count": null,
      "outputs": []
    },
    {
      "cell_type": "code",
      "source": [
        "\n",
        "print(\"Label:\",y_test[900:901])\n",
        "plt.imshow(x_test[900:901].reshape(28,28), cmap='gray')\n",
        "plt.show()"
      ],
      "metadata": {
        "colab": {
          "base_uri": "https://localhost:8080/",
          "height": 282
        },
        "id": "24RzLmXwFI2a",
        "outputId": "59fad6a4-4eb9-476f-f0d3-ed4c3cf1bf02"
      },
      "execution_count": null,
      "outputs": [
        {
          "output_type": "stream",
          "name": "stdout",
          "text": [
            "Label: [[0. 1. 0. 0. 0. 0. 0. 0. 0. 0.]]\n"
          ]
        },
        {
          "output_type": "display_data",
          "data": {
            "text/plain": [
              "<Figure size 432x288 with 1 Axes>"
            ],
            "image/png": "[encoded data removed]"
          },
          "metadata": {
            "needs_background": "light"
          }
        }
      ]
    },
    {
      "cell_type": "code",
      "source": [
        "first_layer_size = 32\n",
        "model = Sequential()\n",
        "model.add(Dense(first_layer_size, activation='sigmoid', input_shape=(784,)))\n",
        "model.add(Dense(32, activation='sigmoid'))\n",
        "model.add(Dense(32, activation='sigmoid'))\n",
        "model.add(Dense(num_classes, activation='softmax'))\n",
        "\n",
        "model.summary()"
      ],
      "metadata": {
        "id": "4OBmzB0_GjtC"
      },
      "execution_count": null,
      "outputs": []
    },
    {
      "cell_type": "code",
      "source": [
        "w = []\n",
        "for layer in model.layers:\n",
        "    weights = layer.get_weights()\n",
        "    w.append(weights)\n",
        "\n",
        "layer1 = np.array(w[0][0])\n",
        "print(\"Shape of First Layer\",layer1.shape)\n",
        "print(\"Visualization of First Layer\")\n",
        "fig=plt.figure(figsize=(12, 12))\n",
        "columns = 8\n",
        "rows = int(first_layer_size/8)\n",
        "for i in range(1, columns*rows +1):\n",
        "    fig.add_subplot(rows, columns, i)\n",
        "    plt.imshow(layer1[:,i-1].reshape(28,28),cmap='gray')\n",
        "plt.show()"
      ],
      "metadata": {
        "id": "sjf14iP8HaqJ"
      },
      "execution_count": null,
      "outputs": []
    },
    {
      "cell_type": "code",
      "source": [
        "model.compile(loss='categorical_crossentropy',\n",
        "              optimizer=RMSprop(),\n",
        "              metrics=['accuracy'])"
      ],
      "metadata": {
        "id": "JX5tFtSWH9Yi"
      },
      "execution_count": null,
      "outputs": []
    },
    {
      "cell_type": "code",
      "source": [
        "# Write the Training input and output variables, size of the batch, number of epochs\n",
        "history = model.fit(x_train,y_train,\n",
        "                    batch_size=batch_size,\n",
        "                    epochs=6,\n",
        "                    verbose=1)"
      ],
      "metadata": {
        "colab": {
          "base_uri": "https://localhost:8080/"
        },
        "id": "2nT0AhT0ITvr",
        "outputId": "a58b580d-cce1-49f8-f661-e36c6f6d9c7a"
      },
      "execution_count": null,
      "outputs": [
        {
          "output_type": "stream",
          "name": "stdout",
          "text": [
            "Epoch 1/6\n",
            "469/469 [==============================] - 5s 4ms/step - loss: 1.6161 - accuracy: 0.5618\n",
            "Epoch 2/6\n",
            "469/469 [==============================] - 2s 4ms/step - loss: 0.6159 - accuracy: 0.8411\n",
            "Epoch 3/6\n",
            "469/469 [==============================] - 2s 4ms/step - loss: 0.3913 - accuracy: 0.8955\n",
            "Epoch 4/6\n",
            "469/469 [==============================] - 2s 4ms/step - loss: 0.3061 - accuracy: 0.9168\n",
            "Epoch 5/6\n",
            "469/469 [==============================] - 2s 5ms/step - loss: 0.2542 - accuracy: 0.9301\n",
            "Epoch 6/6\n",
            "469/469 [==============================] - 2s 5ms/step - loss: 0.2192 - accuracy: 0.9396\n"
          ]
        }
      ]
    },
    {
      "cell_type": "code",
      "source": [
        "# Write the testing input and output variables\n",
        "score = model.evaluate(x_test, y_test, verbose=0)\n",
        "print('Test loss:', score[0])\n",
        "print('Test accuracy:', score[1])"
      ],
      "metadata": {
        "colab": {
          "base_uri": "https://localhost:8080/"
        },
        "id": "HYcYFTVTIfN8",
        "outputId": "933b13ba-9974-481d-8464-0ba8babf4ebd"
      },
      "execution_count": null,
      "outputs": [
        {
          "output_type": "stream",
          "name": "stdout",
          "text": [
            "Test loss: 0.2166491150856018\n",
            "Test accuracy: 0.9394000172615051\n"
          ]
        }
      ]
    },
    {
      "cell_type": "code",
      "source": [
        "w = []\n",
        "for layer in model.layers:\n",
        "    weights = layer.get_weights()\n",
        "    w.append(weights)\n",
        "\n",
        "layer1 = np.array(w[0][0])\n",
        "print(\"Shape of First Layer\",layer1.shape)\n",
        "print(\"Visualization of First Layer\")\n",
        "fig=plt.figure(figsize=(12, 12))\n",
        "columns = 8\n",
        "rows = int(first_layer_size/8)\n",
        "for i in range(1, columns*rows +1):\n",
        "    fig.add_subplot(rows, columns, i)\n",
        "    plt.imshow(layer1[:,i-1].reshape(28,28),cmap='gray')\n",
        "plt.show()"
      ],
      "metadata": {
        "id": "MZ6DTz8WJNQ0"
      },
      "execution_count": null,
      "outputs": []
    },
    {
      "cell_type": "markdown",
      "source": [
        "## **Prediction**"
      ],
      "metadata": {
        "id": "nARbdywWJ0ry"
      }
    },
    {
      "cell_type": "code",
      "source": [
        "# Write the index of the test sample to test\n",
        "prediction = model.predict(x_test[23:24])\n",
        "prediction = prediction[0]\n",
        "print('Prediction\\n',prediction)\n",
        "print('\\nThresholded output\\n',(prediction>0.5)*1)"
      ],
      "metadata": {
        "colab": {
          "base_uri": "https://localhost:8080/"
        },
        "id": "0kad0k8LJurT",
        "outputId": "0cdf6674-49f6-408e-c22e-3fb7184d3501"
      },
      "execution_count": null,
      "outputs": [
        {
          "output_type": "stream",
          "name": "stdout",
          "text": [
            "1/1 [==============================] - 0s 80ms/step\n",
            "Prediction\n",
            " [9.9109870e-04 9.0395822e-04 1.7054558e-06 2.4608502e-03 1.1591013e-04\n",
            " 9.9252748e-01 2.0382865e-04 2.6239757e-05 6.7931152e-04 2.0895542e-03]\n",
            "\n",
            "Thresholded output\n",
            " [0 0 0 0 0 1 0 0 0 0]\n"
          ]
        }
      ]
    },
    {
      "cell_type": "code",
      "source": [
        "\n",
        "# Write the index of the test sample to show\n",
        "plt.imshow(x_test[23:24].reshape(28,28),cmap='gray')\n",
        "plt.show()\n",
        "print(y_test[23:24])"
      ],
      "metadata": {
        "colab": {
          "base_uri": "https://localhost:8080/",
          "height": 282
        },
        "id": "K_a2KEcANwjf",
        "outputId": "c2f43fcc-1e8d-419f-8d3e-329639d738bf"
      },
      "execution_count": null,
      "outputs": [
        {
          "output_type": "display_data",
          "data": {
            "text/plain": [
              "<Figure size 432x288 with 1 Axes>"
            ],
            "image/png": "[encoded data removed]"
          },
          "metadata": {
            "needs_background": "light"
          }
        },
        {
          "output_type": "stream",
          "name": "stdout",
          "text": [
            "[[0. 0. 0. 0. 0. 1. 0. 0. 0. 0.]]\n"
          ]
        }
      ]
    },
    {
      "cell_type": "code",
      "source": [
        "# Load library\n",
        "import cv2\n",
        "import numpy as np\n",
        "from matplotlib import pyplot as plt\n",
        "\n",
        "# Load image in color\n",
        "image_bgr = cv2.imread('images.png', cv2.IMREAD_COLOR)\n",
        "# Convert to RGB\n",
        "image_rgb = cv2.cvtColor(image_bgr, cv2.COLOR_BGR2RGB)\n",
        "print(image_rgb.shape)\n",
        "# Show image\n",
        "plt.imshow(image_rgb), plt.axis(\"off\")\n",
        "plt.show()"
      ],
      "metadata": {
        "id": "UaT2hbIRP7Bg"
      },
      "execution_count": null,
      "outputs": []
    },
    {
      "cell_type": "code",
      "source": [
        "# Load image as grayscale\n",
        "\n",
        "# Write the path to the image\n",
        "\n",
        "image = cv2.imread('images.png', cv2.IMREAD_GRAYSCALE)\n",
        "image_resized = cv2.resize(image, (28, 28)) \n",
        "# Show image\n",
        "plt.imshow(image_resized, cmap='gray'), plt.axis(\"off\")\n",
        "plt.show()"
      ],
      "metadata": {
        "id": "SSz6EZoxQp-F"
      },
      "execution_count": null,
      "outputs": []
    },
    {
      "cell_type": "code",
      "source": [
        "prediction = model.predict(image_resized.reshape(1,784))\n",
        "print('Prediction Score:\\n',prediction[0])\n",
        "thresholded = (prediction>0.5)*1\n",
        "print('\\nThresholded Score:\\n',thresholded[0])\n",
        "print('\\nPredicted Digit:\\n',np.where(thresholded == 1)[1][0])"
      ],
      "metadata": {
        "id": "70m9stnNQxAr"
      },
      "execution_count": null,
      "outputs": []
    }
  ]
}